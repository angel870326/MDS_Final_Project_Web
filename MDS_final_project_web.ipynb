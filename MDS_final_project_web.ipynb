{
  "cells": [
    {
      "cell_type": "markdown",
      "metadata": {
        "id": "view-in-github",
        "colab_type": "text"
      },
      "source": [
        "<a href=\"https://colab.research.google.com/github/angel870326/MDS_Final_Project_Web/blob/main/MDS_final_project_web.ipynb\" target=\"_parent\"><img src=\"https://colab.research.google.com/assets/colab-badge.svg\" alt=\"Open In Colab\"/></a>"
      ]
    },
    {
      "cell_type": "markdown",
      "metadata": {
        "id": "a1FWjFHjPpNl"
      },
      "source": [
        "> 2022.12.16 Ssu-Yun Wang<br/>\n",
        "[Github @angel870326](https://github.com/angel870326)\n",
        "\n",
        "# **Manufacturing Data Science Final Project Web**\n",
        "\n",
        "\n"
      ]
    },
    {
      "cell_type": "code",
      "execution_count": 1,
      "metadata": {
        "colab": {
          "base_uri": "https://localhost:8080/"
        },
        "id": "RcOOpwEEqpNa",
        "outputId": "d02d9f65-53af-40bd-85cc-79c02a89c8d8"
      },
      "outputs": [
        {
          "output_type": "stream",
          "name": "stdout",
          "text": [
            "Drive already mounted at /content/gdrive; to attempt to forcibly remount, call drive.mount(\"/content/gdrive\", force_remount=True).\n"
          ]
        }
      ],
      "source": [
        "# sConnect to the Google Drive\n",
        "from google.colab import drive\n",
        "drive.mount(\"/content/gdrive\")"
      ]
    },
    {
      "cell_type": "markdown",
      "metadata": {
        "id": "sC59khfKJrMj"
      },
      "source": [
        "## **Installation & Setup (Flask & Ngrok)**"
      ]
    },
    {
      "cell_type": "code",
      "execution_count": 2,
      "metadata": {
        "colab": {
          "base_uri": "https://localhost:8080/"
        },
        "id": "TefBH-gbm1mM",
        "outputId": "8bc2845b-09ee-493a-fbaf-fd2e6ebdddf2"
      },
      "outputs": [
        {
          "output_type": "stream",
          "name": "stdout",
          "text": [
            "Looking in indexes: https://pypi.org/simple, https://us-python.pkg.dev/colab-wheels/public/simple/\n",
            "Requirement already satisfied: flask in /usr/local/lib/python3.8/dist-packages (1.1.4)\n",
            "Requirement already satisfied: Jinja2<3.0,>=2.10.1 in /usr/local/lib/python3.8/dist-packages (from flask) (2.11.3)\n",
            "Requirement already satisfied: itsdangerous<2.0,>=0.24 in /usr/local/lib/python3.8/dist-packages (from flask) (1.1.0)\n",
            "Requirement already satisfied: click<8.0,>=5.1 in /usr/local/lib/python3.8/dist-packages (from flask) (7.1.2)\n",
            "Requirement already satisfied: Werkzeug<2.0,>=0.15 in /usr/local/lib/python3.8/dist-packages (from flask) (1.0.1)\n",
            "Requirement already satisfied: MarkupSafe>=0.23 in /usr/local/lib/python3.8/dist-packages (from Jinja2<3.0,>=2.10.1->flask) (2.0.1)\n",
            "Looking in indexes: https://pypi.org/simple, https://us-python.pkg.dev/colab-wheels/public/simple/\n",
            "Requirement already satisfied: flask-ngrok in /usr/local/lib/python3.8/dist-packages (0.0.25)\n",
            "Requirement already satisfied: Flask>=0.8 in /usr/local/lib/python3.8/dist-packages (from flask-ngrok) (1.1.4)\n",
            "Requirement already satisfied: requests in /usr/local/lib/python3.8/dist-packages (from flask-ngrok) (2.23.0)\n",
            "Requirement already satisfied: Jinja2<3.0,>=2.10.1 in /usr/local/lib/python3.8/dist-packages (from Flask>=0.8->flask-ngrok) (2.11.3)\n",
            "Requirement already satisfied: itsdangerous<2.0,>=0.24 in /usr/local/lib/python3.8/dist-packages (from Flask>=0.8->flask-ngrok) (1.1.0)\n",
            "Requirement already satisfied: Werkzeug<2.0,>=0.15 in /usr/local/lib/python3.8/dist-packages (from Flask>=0.8->flask-ngrok) (1.0.1)\n",
            "Requirement already satisfied: click<8.0,>=5.1 in /usr/local/lib/python3.8/dist-packages (from Flask>=0.8->flask-ngrok) (7.1.2)\n",
            "Requirement already satisfied: MarkupSafe>=0.23 in /usr/local/lib/python3.8/dist-packages (from Jinja2<3.0,>=2.10.1->Flask>=0.8->flask-ngrok) (2.0.1)\n",
            "Requirement already satisfied: certifi>=2017.4.17 in /usr/local/lib/python3.8/dist-packages (from requests->flask-ngrok) (2022.9.24)\n",
            "Requirement already satisfied: chardet<4,>=3.0.2 in /usr/local/lib/python3.8/dist-packages (from requests->flask-ngrok) (3.0.4)\n",
            "Requirement already satisfied: idna<3,>=2.5 in /usr/local/lib/python3.8/dist-packages (from requests->flask-ngrok) (2.10)\n",
            "Requirement already satisfied: urllib3!=1.25.0,!=1.25.1,<1.26,>=1.21.1 in /usr/local/lib/python3.8/dist-packages (from requests->flask-ngrok) (1.24.3)\n"
          ]
        }
      ],
      "source": [
        "!pip install flask\n",
        "!pip install flask-ngrok"
      ]
    },
    {
      "cell_type": "markdown",
      "metadata": {
        "id": "aYvUJ0fRKFUJ"
      },
      "source": [
        "Get your AuthToken from ngrok using this link: https://dashboard.ngrok.com/get-started/your-authtoken"
      ]
    },
    {
      "cell_type": "code",
      "execution_count": 3,
      "metadata": {
        "colab": {
          "base_uri": "https://localhost:8080/"
        },
        "id": "ytLgTlggqGci",
        "outputId": "ef7d4a6e-10c4-4068-e3a6-49635a2d6835"
      },
      "outputs": [
        {
          "output_type": "stream",
          "name": "stdout",
          "text": [
            "Looking in indexes: https://pypi.org/simple, https://us-python.pkg.dev/colab-wheels/public/simple/\n",
            "Requirement already satisfied: pyngrok==4.1.1 in /usr/local/lib/python3.8/dist-packages (4.1.1)\n",
            "Requirement already satisfied: future in /usr/local/lib/python3.8/dist-packages (from pyngrok==4.1.1) (0.16.0)\n",
            "Requirement already satisfied: PyYAML in /usr/local/lib/python3.8/dist-packages (from pyngrok==4.1.1) (6.0)\n",
            "Authtoken saved to configuration file: /root/.ngrok2/ngrok.yml\n"
          ]
        }
      ],
      "source": [
        "!pip install pyngrok==4.1.1\n",
        "!ngrok authtoken '1qCRUUcFgnhlSf0o5xS5eilRUUk_7mexMJwXSwcCcPEuvCs2q' # your authtoken"
      ]
    },
    {
      "cell_type": "markdown",
      "metadata": {
        "id": "IyJKCLmxaYfL"
      },
      "source": [
        "Bootstrap (optional)"
      ]
    },
    {
      "cell_type": "code",
      "execution_count": 4,
      "metadata": {
        "colab": {
          "base_uri": "https://localhost:8080/"
        },
        "id": "j_W9EK45aaj4",
        "outputId": "a016c7c7-e5de-41b8-ec36-537cb0ff2bbb"
      },
      "outputs": [
        {
          "output_type": "stream",
          "name": "stdout",
          "text": [
            "Looking in indexes: https://pypi.org/simple, https://us-python.pkg.dev/colab-wheels/public/simple/\n",
            "Requirement already satisfied: bootstrap-flask in /usr/local/lib/python3.8/dist-packages (2.2.0)\n",
            "Requirement already satisfied: Flask in /usr/local/lib/python3.8/dist-packages (from bootstrap-flask) (1.1.4)\n",
            "Requirement already satisfied: WTForms in /usr/local/lib/python3.8/dist-packages (from bootstrap-flask) (3.0.1)\n",
            "Requirement already satisfied: Jinja2<3.0,>=2.10.1 in /usr/local/lib/python3.8/dist-packages (from Flask->bootstrap-flask) (2.11.3)\n",
            "Requirement already satisfied: itsdangerous<2.0,>=0.24 in /usr/local/lib/python3.8/dist-packages (from Flask->bootstrap-flask) (1.1.0)\n",
            "Requirement already satisfied: Werkzeug<2.0,>=0.15 in /usr/local/lib/python3.8/dist-packages (from Flask->bootstrap-flask) (1.0.1)\n",
            "Requirement already satisfied: click<8.0,>=5.1 in /usr/local/lib/python3.8/dist-packages (from Flask->bootstrap-flask) (7.1.2)\n",
            "Requirement already satisfied: MarkupSafe>=0.23 in /usr/local/lib/python3.8/dist-packages (from Jinja2<3.0,>=2.10.1->Flask->bootstrap-flask) (2.0.1)\n"
          ]
        }
      ],
      "source": [
        "!pip install bootstrap-flask"
      ]
    },
    {
      "cell_type": "markdown",
      "metadata": {
        "id": "6XH4dUf_Gap1"
      },
      "source": [
        "## **Load Machine Learning Model**"
      ]
    },
    {
      "cell_type": "code",
      "execution_count": null,
      "metadata": {
        "id": "Z0OfKoxVGVuA"
      },
      "outputs": [],
      "source": [
        "# import pickle\n",
        "# model = pickle.load(open('model.pkl', 'rb', ))"
      ]
    },
    {
      "cell_type": "markdown",
      "metadata": {
        "id": "-5WAPngyILTz"
      },
      "source": [
        "## **Run the Web**"
      ]
    },
    {
      "cell_type": "code",
      "execution_count": 5,
      "metadata": {
        "id": "M4Ro5TCpnjXj"
      },
      "outputs": [],
      "source": [
        "from flask_ngrok import run_with_ngrok\n",
        "from flask_bootstrap import Bootstrap5\n",
        "from flask import Flask, render_template, redirect, request, session, send_file, url_for, Response, stream_with_context\n",
        "import pandas as pd\n",
        "import os\n",
        "from werkzeug.utils import secure_filename\n",
        "import json"
      ]
    },
    {
      "cell_type": "code",
      "execution_count": 29,
      "metadata": {
        "colab": {
          "base_uri": "https://localhost:8080/"
        },
        "id": "KvXs4r1KnO0R",
        "outputId": "9dcc8fe4-6a35-48cc-ec5f-73a01eaf55ba"
      },
      "outputs": [
        {
          "output_type": "stream",
          "name": "stdout",
          "text": [
            " * Serving Flask app \"__main__\" (lazy loading)\n",
            " * Environment: production\n",
            "\u001b[31m   WARNING: This is a development server. Do not use it in a production deployment.\u001b[0m\n",
            "\u001b[2m   Use a production WSGI server instead.\u001b[0m\n",
            " * Debug mode: off\n"
          ]
        },
        {
          "output_type": "stream",
          "name": "stderr",
          "text": [
            "INFO:werkzeug: * Running on http://127.0.0.1:5000/ (Press CTRL+C to quit)\n"
          ]
        },
        {
          "output_type": "stream",
          "name": "stdout",
          "text": [
            " * Running on http://1e9f-34-23-50-232.ngrok.io\n",
            " * Traffic stats available on http://127.0.0.1:4040\n"
          ]
        },
        {
          "output_type": "stream",
          "name": "stderr",
          "text": [
            "INFO:werkzeug:127.0.0.1 - - [15/Dec/2022 16:47:40] \"\u001b[37mGET / HTTP/1.1\u001b[0m\" 200 -\n",
            "INFO:werkzeug:127.0.0.1 - - [15/Dec/2022 16:47:40] \"\u001b[37mGET /static/css/styles.css HTTP/1.1\u001b[0m\" 200 -\n",
            "INFO:werkzeug:127.0.0.1 - - [15/Dec/2022 16:47:40] \"\u001b[37mGET /static/js/scripts.js HTTP/1.1\u001b[0m\" 200 -\n",
            "INFO:werkzeug:127.0.0.1 - - [15/Dec/2022 16:47:42] \"\u001b[37mGET /static/assets/img/bg-masthead.jpg HTTP/1.1\u001b[0m\" 200 -\n",
            "INFO:werkzeug:127.0.0.1 - - [15/Dec/2022 16:47:42] \"\u001b[37mGET /static/assets/favicon.ico HTTP/1.1\u001b[0m\" 200 -\n",
            "INFO:werkzeug:127.0.0.1 - - [15/Dec/2022 16:47:47] \"\u001b[37mPOST / HTTP/1.1\u001b[0m\" 200 -\n",
            "INFO:werkzeug:127.0.0.1 - - [15/Dec/2022 16:47:50] \"\u001b[37mGET /predict HTTP/1.1\u001b[0m\" 200 -\n",
            "INFO:werkzeug:127.0.0.1 - - [15/Dec/2022 16:47:51] \"\u001b[37mGET /static/js/Chart.min.js HTTP/1.1\u001b[0m\" 200 -\n",
            "INFO:werkzeug:127.0.0.1 - - [15/Dec/2022 16:47:51] \"\u001b[37mGET /static/js/predict.js HTTP/1.1\u001b[0m\" 200 -\n",
            "INFO:werkzeug:127.0.0.1 - - [15/Dec/2022 16:48:01] \"\u001b[37mPOST /adjust HTTP/1.1\u001b[0m\" 200 -\n"
          ]
        },
        {
          "output_type": "stream",
          "name": "stdout",
          "text": [
            "-14 33 0 17 -35\n"
          ]
        },
        {
          "output_type": "stream",
          "name": "stderr",
          "text": [
            "INFO:werkzeug:127.0.0.1 - - [15/Dec/2022 16:48:01] \"\u001b[37mGET /static/js/adjust.js HTTP/1.1\u001b[0m\" 200 -\n",
            "INFO:werkzeug:127.0.0.1 - - [15/Dec/2022 16:48:21] \"\u001b[32mGET /readjust HTTP/1.1\u001b[0m\" 302 -\n",
            "INFO:werkzeug:127.0.0.1 - - [15/Dec/2022 16:48:21] \"\u001b[37mGET /predict HTTP/1.1\u001b[0m\" 200 -\n",
            "INFO:werkzeug:127.0.0.1 - - [15/Dec/2022 16:48:27] \"\u001b[37mPOST /adjust HTTP/1.1\u001b[0m\" 200 -\n"
          ]
        },
        {
          "output_type": "stream",
          "name": "stdout",
          "text": [
            "0 0 0 0 0\n"
          ]
        }
      ],
      "source": [
        "template_path = '/content/gdrive/MyDrive/碩二上/製造數據科學/MDS_Final_Project_Web_v4/templates'\n",
        "static_path = '/content/gdrive/MyDrive/碩二上/製造數據科學/MDS_Final_Project_Web_v4/static'\n",
        "\n",
        "# Downlaod file\n",
        "download_path = os.path.join(static_path, 'downloads')\n",
        "\n",
        "# Upload file\n",
        "upload_folder = os.path.join(static_path, 'uploads') # Define folder to save uploaded files to process further\n",
        "ALLOWED_EXTENSIONS = {'csv'} # Define allowed files\n",
        "\n",
        "app = Flask(__name__, template_folder = template_path, static_folder=static_path)\n",
        "app.config['UPLOAD_FOLDER'] = upload_folder # Configure upload file path flask\n",
        "app.secret_key = 'MDS Final Project Group 4' # Define secret key to enable session\n",
        "\n",
        "bootstrap = Bootstrap5(app)\n",
        "run_with_ngrok(app)   #starts ngrok when the app is run\n",
        "\n",
        "@app.route(\"/\", methods=['GET'])\n",
        "def home():\n",
        "    return render_template('index.html')\n",
        "\n",
        "@app.route(\"/download\")\n",
        "def downloadFile():\n",
        "    download_path = os.path.join(static_path, 'downloads/template.csv')\n",
        "    return send_file(download_path, as_attachment=True)\n",
        " \n",
        "@app.route('/', methods=['GET', 'POST'])\n",
        "def uploadFile():\n",
        "    if request.method == 'POST':\n",
        "        # upload file flask\n",
        "        uploaded_df = request.files['uploaded-file']\n",
        "        # Extracting uploaded data file name\n",
        "        data_filename = secure_filename(uploaded_df.filename)\n",
        "        # flask upload file to database (defined uploaded folder in static path)\n",
        "        uploaded_df.save(os.path.join(app.config['UPLOAD_FOLDER'], data_filename))\n",
        "        # Storing uploaded file path in flask session\n",
        "        session['uploaded_data_file_path'] = os.path.join(app.config['UPLOAD_FOLDER'], data_filename)\n",
        "        return render_template('index.html')\n",
        "\n",
        "@app.route('/predict', methods=['GET', 'POST'])\n",
        "def predict():\n",
        "    labels = [\"Jan\", \"Feb\", \"Mar\", \"Apr\", \"May\", \"Jun\", \"Jul\", \"Aug\", \"Sep\", \"Oct\", \"Nov\", \"Dec\"]\n",
        "    values = [0, 20, 50, 15, 10, 20, 15, 25, 20, 30, 25, 40]\n",
        "    results_dict = {\"labels\": labels, \"values\": values}\n",
        "    return render_template('predict.html', results_dict=json.dumps(results_dict))\n",
        "\n",
        "@app.route('/adjust', methods=['GET', 'POST'])\n",
        "def adjust():\n",
        "    slider_value_1 = request.form.get('slider1')\n",
        "    slider_value_2 = request.form.get('slider2')\n",
        "    slider_value_3 = request.form.get('slider3')\n",
        "    slider_value_4 = request.form.get('slider4')\n",
        "    slider_value_5 = request.form.get('slider5')\n",
        "    adjusted_features = {\"f1\":slider_value_1, \"f2\":slider_value_2, \"f3\":slider_value_3, \"f4\":slider_value_4, \"f5\":slider_value_5}\n",
        "    print(slider_value_1, slider_value_2, slider_value_3, slider_value_4, slider_value_5)\n",
        "\n",
        "    labels = [\"Jan\", \"Feb\", \"Mar\", \"Apr\", \"May\", \"Jun\", \"Jul\", \"Aug\", \"Sep\", \"Oct\", \"Nov\", \"Dec\"]\n",
        "    values = [0, 20, 50, 15, 10, 20, 15, 25, 20, 30, 25, 40]\n",
        "    values_adj = [10, 10, 10, 10, 10, 10, 10, 10, 10, 10, 10, 10]\n",
        "    results_dict = {\"labels\": labels, \"values\": values, \"values_adj\": values_adj}\n",
        "\n",
        "    return render_template('adjust.html', results_dict=json.dumps(results_dict), adjusted_features=adjusted_features)\n",
        "\n",
        "@app.route('/readjust', methods=['GET'])\n",
        "def readjust():\n",
        "    return redirect('predict')\n",
        "\n",
        "\n",
        "# def predict():\n",
        "#   input_values = [float(x) for x in request.form.values()]\n",
        "#   inp_features = [input_values]\n",
        "  # prediction = model.predict(inp_features)\n",
        "  # if prediction==1:\n",
        "  #   return render_template('index.html', prediction_text='?')\n",
        "  # else:\n",
        "  #   return render_template('index.html', prediction_text='?')\n",
        "\n",
        "  \n",
        " \n",
        "if __name__=='__main__':\n",
        "    app.run()"
      ]
    },
    {
      "cell_type": "code",
      "execution_count": null,
      "metadata": {
        "id": "WTV9m5hezTxE"
      },
      "outputs": [],
      "source": []
    },
    {
      "cell_type": "code",
      "execution_count": null,
      "metadata": {
        "id": "5TuhxweHpemv"
      },
      "outputs": [],
      "source": [
        "# @app.route('/', methods=['GET', \"POST\"])\n",
        "# def predict():\n",
        "#   input_values = [float(x) for x in request.form.values()]\n",
        "#   inp_features = [input_values]\n",
        "#   prediction = model.predict(inp_features)\n",
        "#   if prediction==1:\n",
        "#     return render_template('index.html', prediction_text='Death event took Place. Person is no more')\n",
        "#   else:\n",
        "#     return render_template('index.html', prediction_text='Death event not took Place. Person is alive')\n"
      ]
    }
  ],
  "metadata": {
    "colab": {
      "collapsed_sections": [
        "sC59khfKJrMj"
      ],
      "provenance": [],
      "include_colab_link": true
    },
    "gpuClass": "standard",
    "kernelspec": {
      "display_name": "Python 3",
      "name": "python3"
    },
    "language_info": {
      "name": "python"
    }
  },
  "nbformat": 4,
  "nbformat_minor": 0
}